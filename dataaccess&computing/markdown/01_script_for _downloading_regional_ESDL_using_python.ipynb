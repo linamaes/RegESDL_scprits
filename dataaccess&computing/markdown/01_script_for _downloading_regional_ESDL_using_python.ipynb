{
 "cells": [
  {
   "cell_type": "markdown",
   "metadata": {},
   "source": [
    "## Data access\n",
    "\n",
    "## Script 01: Code to download the regional ESDL using Python\n",
    "\n",
    "\n",
    "### Estupinan-Suarez, Gans, et al. (2021). A Regional Earth System Data Lab for Understanding Ecosystem Dynamics: An Example from Tropical South America. Front. Earth Sci. 9:613395. doi: 10.3389/feart.2021.613395\n",
    "#### Correspondence to: lestup@bgc-jena.mpg.de, linamaesu@gmail.com\n",
    "#### GitHub repository: https://github.com/linamaes/Regional_ESDL\n",
    "\n",
    "\n",
    "About the script:\n",
    "- This code was written in jupyter notebooks\n",
    "- This notebook exemplifies how to access the RegESDL. Here, we showcase how to download the RegESDL using s3fs in Python for local use\n",
    "\n",
    "About the notebook:\n",
    "- The notebook kernel is Python 3.7.1, and it uses the s3fs package version 0.5.2 \n",
    "- \"#\" comments in the code are intended to explain specific aspects of the coding\n",
    "- New steps in workflows are introduced with bold headers\n",
    "- For complete information of the datasets check the orignal data source documentation. Citations are available on the referred manuscript and supplementary tables.\n",
    "\n",
    "June 2021, Max Planck Insitute for Biogeochemistry, Jena, Germany"
   ]
  },
  {
   "cell_type": "markdown",
   "metadata": {},
   "source": [
    "## Import requiered packages"
   ]
  },
  {
   "cell_type": "code",
   "execution_count": null,
   "metadata": {},
   "outputs": [],
   "source": [
    "import s3fs"
   ]
  },
  {
   "cell_type": "markdown",
   "metadata": {},
   "source": [
    "## Commands used to download the RegESDL"
   ]
  },
  {
   "cell_type": "code",
   "execution_count": null,
   "metadata": {},
   "outputs": [],
   "source": [
    "# Create a handle to the otc object store\n",
    "s3 = s3fs.S3FileSystem(\n",
    "    anon = True,\n",
    ")"
   ]
  },
  {
   "cell_type": "code",
   "execution_count": null,
   "metadata": {},
   "outputs": [],
   "source": [
    "# List of available colombia data cubes:\n",
    "s3.ls('esdl-esdc-v2.0.1')"
   ]
  },
  {
   "cell_type": "code",
   "execution_count": null,
   "metadata": {},
   "outputs": [],
   "source": [
    "# Commands used to download a cube\n",
    "obs.get(obs.ls('esdl-esdc-v2.0.1/Cube_2019highColombiaCube_184x120x120.zarr'),'./mylocalhighrescube', recursive=True);"
   ]
  },
  {
   "cell_type": "markdown",
   "metadata": {},
   "source": [
    "Commands to access the data cube using xcube and then continue analysis using xarray:"
   ]
  },
  {
   "cell_type": "code",
   "execution_count": null,
   "metadata": {},
   "outputs": [],
   "source": [
    "import xarray as xr\n",
    "import xcube "
   ]
  },
  {
   "cell_type": "code",
   "execution_count": null,
   "metadata": {},
   "outputs": [],
   "source": [
    "from xcube.core.dsio import open_dataset\n",
    "\n",
    "ds = open_dataset(\"https://s3.eu-central-1.amazonaws.com/esdl-esdc-v2.0.1/Cube_2019highColombiaCube_184x120x120.zarr\", s3_kwargs=dict(anon=True))"
   ]
  },
  {
   "cell_type": "code",
   "execution_count": null,
   "metadata": {},
   "outputs": [],
   "source": []
  }
 ],
 "metadata": {
  "kernelspec": {
   "display_name": "Python 3",
   "language": "python",
   "name": "python3"
  },
  "language_info": {
   "codemirror_mode": {
    "name": "ipython",
    "version": 3
   },
   "file_extension": ".py",
   "mimetype": "text/x-python",
   "name": "python",
   "nbconvert_exporter": "python",
   "pygments_lexer": "ipython3",
   "version": "3.7.7"
  }
 },
 "nbformat": 4,
 "nbformat_minor": 4
}
