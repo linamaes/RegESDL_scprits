{
 "cells": [
  {
   "cell_type": "markdown",
   "metadata": {},
   "source": [
    "## Computational Performance\n",
    "\n",
    "## Script 02.03: Computational comparison of time series decomposition using different Data Cubes storage\n",
    "\n",
    "### Estupinan-Suarez, Gans, et al. (2021). A Regional Earth System Data Lab for Understanding Ecosystem Dynamics: An Example from Tropical South America. Front. Earth Sci. 9:613395. doi: 10.3389/feart.2021.613395\n",
    "#### Correspondence to: lestup@bgc-jena.mpg.de, linamaesu@gmail.com\n",
    "#### GitHub repository: https://github.com/linamaes/Regional_ESDL\n",
    "\n",
    "\n",
    "This script illustrates the time difference on time series computing when using different cube storage versions. We provide two examples:\n",
    "    \n",
    "- Example 1: Time series are decomposed in different time-scales i.e. Longer-term, seasonal cycle and short(fast) oscillation, plus the trend \n",
    "- Example 2: It finds the maximum value along a time period at pixel level\n",
    "\n",
    "\n",
    "\n",
    "About the notebook\n",
    "- It is written in Julia 1.3\n",
    "- \"#\" comments in the code are intended to explain specific aspects of the coding\n",
    "- New steps in the workflow are introduced with bold headers\n",
    "\n",
    "March 2021, Max Planck Insitute for Biogeochemistry, Jena, Germany\n"
   ]
  },
  {
   "cell_type": "markdown",
   "metadata": {},
   "source": [
    "## Load packages"
   ]
  },
  {
   "cell_type": "code",
   "execution_count": 1,
   "metadata": {},
   "outputs": [],
   "source": [
    "using ESDL"
   ]
  },
  {
   "cell_type": "code",
   "execution_count": 2,
   "metadata": {},
   "outputs": [
    {
     "data": {
      "text/html": [
       "<script>\n",
       "// Immediately-invoked-function-expression to avoid global variables.\n",
       "(function() {\n",
       "    var warning_div = document.getElementById(\"webio-warning-1067746827823222194\");\n",
       "    var hide = function () {\n",
       "        var script = document.getElementById(\"webio-setup-16373082021116835020\");\n",
       "        var parent = script && script.parentElement;\n",
       "        var grandparent = parent && parent.parentElement;\n",
       "        if (grandparent) {\n",
       "            grandparent.style.display = \"none\";\n",
       "        }\n",
       "        warning_div.style.display = \"none\";\n",
       "    };\n",
       "    if (typeof Jupyter !== \"undefined\") {\n",
       "        console.log(\"WebIO detected Jupyter notebook environment.\");\n",
       "        // Jupyter notebook.\n",
       "        var extensions = (\n",
       "            Jupyter\n",
       "            && Jupyter.notebook.config.data\n",
       "            && Jupyter.notebook.config.data.load_extensions\n",
       "        );\n",
       "        if (extensions && extensions[\"webio-jupyter-notebook\"]) {\n",
       "            // Extension already loaded.\n",
       "            console.log(\"Jupyter WebIO nbextension detected; not loading ad-hoc.\");\n",
       "            hide();\n",
       "            return;\n",
       "        }\n",
       "    } else if (window.location.pathname.includes(\"/lab\")) {\n",
       "        // Guessing JupyterLa\n",
       "        console.log(\"Jupyter Lab detected; make sure the @webio/jupyter-lab-provider labextension is installed.\");\n",
       "        hide();\n",
       "        return;\n",
       "    }\n",
       "})();\n",
       "\n",
       "</script>\n",
       "<p\n",
       "    id=\"webio-warning-1067746827823222194\"\n",
       "    class=\"output_text output_stderr\"\n",
       "    style=\"padding: 1em; font-weight: bold;\"\n",
       ">\n",
       "    Unable to load WebIO. Please make sure WebIO works for your Jupyter client.\n",
       "    For troubleshooting, please see <a href=\"https://juliagizmos.github.io/WebIO.jl/latest/providers/ijulia/\">\n",
       "    the WebIO/IJulia documentation</a>.\n",
       "    <!-- TODO: link to installation docs. -->\n",
       "</p>\n"
      ],
      "text/plain": [
       "HTML{String}(\"<script>\\n// Immediately-invoked-function-expression to avoid global variables.\\n(function() {\\n    var warning_div = document.getElementById(\\\"webio-warning-1067746827823222194\\\");\\n    var hide = function () {\\n        var script = document.getElementById(\\\"webio-setup-16373082021116835020\\\");\\n        var parent = script && script.parentElement;\\n        var grandparent = parent && parent.parentElement;\\n        if (grandparent) {\\n            grandparent.style.display = \\\"none\\\";\\n        }\\n        warning_div.style.display = \\\"none\\\";\\n    };\\n    if (typeof Jupyter !== \\\"undefined\\\") {\\n        console.log(\\\"WebIO detected Jupyter notebook environment.\\\");\\n        // Jupyter notebook.\\n        var extensions = (\\n            Jupyter\\n            && Jupyter.notebook.config.data\\n            && Jupyter.notebook.config.data.load_extensions\\n        );\\n        if (extensions && extensions[\\\"webio-jupyter-notebook\\\"]) {\\n            // Extension already loaded.\\n            console.log(\\\"Jupyter WebIO nbextension detected; not loading ad-hoc.\\\");\\n            hide();\\n            return;\\n        }\\n    } else if (window.location.pathname.includes(\\\"/lab\\\")) {\\n        // Guessing JupyterLa\\n        console.log(\\\"Jupyter Lab detected; make sure the @webio/jupyter-lab-provider labextension is installed.\\\");\\n        hide();\\n        return;\\n    }\\n})();\\n\\n</script>\\n<p\\n    id=\\\"webio-warning-1067746827823222194\\\"\\n    class=\\\"output_text output_stderr\\\"\\n    style=\\\"padding: 1em; font-weight: bold;\\\"\\n>\\n    Unable to load WebIO. Please make sure WebIO works for your Jupyter client.\\n    For troubleshooting, please see <a href=\\\"https://juliagizmos.github.io/WebIO.jl/latest/providers/ijulia/\\\">\\n    the WebIO/IJulia documentation</a>.\\n    <!-- TODO: link to installation docs. -->\\n</p>\\n\")"
      ]
     },
     "metadata": {},
     "output_type": "display_data"
    }
   ],
   "source": [
    "using ESDLPlots"
   ]
  },
  {
   "cell_type": "markdown",
   "metadata": {},
   "source": [
    "## Set reading and writing paths"
   ]
  },
  {
   "cell_type": "code",
   "execution_count": 6,
   "metadata": {},
   "outputs": [
    {
     "data": {
      "text/plain": [
       "\"../mypath/\""
      ]
     },
     "execution_count": 6,
     "metadata": {},
     "output_type": "execute_result"
    }
   ],
   "source": [
    "pathin = \"../mypath/\"# => Set your path"
   ]
  },
  {
   "cell_type": "markdown",
   "metadata": {},
   "source": [
    "## Load Cubes"
   ]
  },
  {
   "cell_type": "code",
   "execution_count": 4,
   "metadata": {},
   "outputs": [
    {
     "data": {
      "text/plain": [
       "Collection of ZArray Cube with the following dimensions\n",
       "Lon                 Axis with 2760 Elements from -82.99622135 to -60.00464665\n",
       "Lat                 Axis with 3360 Elements from 13.99613735 to -13.99541735\n",
       "Time                Axis with 782 Elements from 2001-01-05T00:00:00 to 2017-12-31T00:00:00\n",
       "Variable            Axis with 5 elements: lai fpar gross_primary_productivity evi ndvi \n",
       "Total size: 168.85 GB\n"
      ]
     },
     "execution_count": 4,
     "metadata": {},
     "output_type": "execute_result"
    }
   ],
   "source": [
    "# Cube storage version for temporal analysis\n",
    "ctem = Cube(string(pathin,\"/Cube_2020highColombiaCube_184x120x120.zarr/\"))"
   ]
  },
  {
   "cell_type": "code",
   "execution_count": 5,
   "metadata": {},
   "outputs": [
    {
     "data": {
      "text/plain": [
       "Collection of ZArray Cube with the following dimensions\n",
       "Lon                 Axis with 2760 Elements from -82.99622135 to -60.00464665\n",
       "Lat                 Axis with 3360 Elements from 13.99613735 to -13.99541735\n",
       "Time                Axis with 782 Elements from 2001-01-05T00:00:00 to 2017-12-31T00:00:00\n",
       "Variable            Axis with 5 elements: lai fpar gross_primary_productivity evi ndvi \n",
       "Total size: 168.85 GB\n"
      ]
     },
     "execution_count": 5,
     "metadata": {},
     "output_type": "execute_result"
    }
   ],
   "source": [
    "# Cube storage version for spatial analysis\n",
    "cspa = Cube(string(pathin,\"/Cube_2020highColombiaCube_1x3360x2760.zarr/\"))"
   ]
  },
  {
   "cell_type": "markdown",
   "metadata": {},
   "source": [
    "## Settings for cube subset"
   ]
  },
  {
   "cell_type": "code",
   "execution_count": 7,
   "metadata": {},
   "outputs": [
    {
     "data": {
      "text/plain": [
       "(0, 1)"
      ]
     },
     "execution_count": 7,
     "metadata": {},
     "output_type": "execute_result"
    }
   ],
   "source": [
    "yrstart = 2001\n",
    "yrend = 2005\n",
    "latsub =(0,1)"
   ]
  },
  {
   "cell_type": "markdown",
   "metadata": {},
   "source": [
    "## Example 1: Time series decomposition"
   ]
  },
  {
   "cell_type": "code",
   "execution_count": 8,
   "metadata": {},
   "outputs": [
    {
     "name": "stderr",
     "output_type": "stream",
     "text": [
      "\u001b[32mProgress: 100%|█████████████████████████████████████████| Time: 0:02:55\u001b[39m\n"
     ]
    },
    {
     "name": "stdout",
     "output_type": "stream",
     "text": [
      "186.832809 seconds (1.57 G allocations: 55.861 GiB, 6.66% gc time)\n"
     ]
    },
    {
     "data": {
      "text/plain": [
       "Collection of ZArray Cube with the following dimensions\n",
       "Time                Axis with 230 Elements from 2001-01-05T00:00:00 to 2005-12-31T00:00:00\n",
       "Scale               Axis with 4 elements: Trend Long-Term Variability Annual Cycle Fast Oscillations \n",
       "Lon                 Axis with 2760 Elements from -82.99622135 to -60.00464665\n",
       "Lat                 Axis with 120 Elements from 0.9961893499999996 to 0.004526649999999694\n",
       "Variable            Axis with 5 elements: lai fpar gross_primary_productivity evi ndvi \n",
       "Total size: 7.09 GB\n"
      ]
     },
     "execution_count": 8,
     "metadata": {},
     "output_type": "execute_result"
    }
   ],
   "source": [
    "@time ctemfft = filterTSFFT(ctem[time=yrstart:yrend, lat=latsub])"
   ]
  },
  {
   "cell_type": "code",
   "execution_count": 9,
   "metadata": {},
   "outputs": [
    {
     "name": "stderr",
     "output_type": "stream",
     "text": [
      "┌ Warning: There are still cache misses\n",
      "└ @ ESDL.DAT /Net/Groups/BGI/scratch/lestup/julia_atacama_depots/packages/ESDL/skMpG/src/DAT/DAT.jl:608\n",
      "┌ Warning: There are compressed caches misses, you may want to use a different cube chunking\n",
      "└ @ ESDL.DAT /Net/Groups/BGI/scratch/lestup/julia_atacama_depots/packages/ESDL/skMpG/src/DAT/DAT.jl:609\n",
      "\u001b[32mProgress: 100%|█████████████████████████████████████████| Time: 0:36:33\u001b[39m\n"
     ]
    },
    {
     "name": "stdout",
     "output_type": "stream",
     "text": [
      "2194.006997 seconds (1.53 G allocations: 929.078 GiB, 4.11% gc time)\n"
     ]
    },
    {
     "data": {
      "text/plain": [
       "Collection of ZArray Cube with the following dimensions\n",
       "Time                Axis with 230 Elements from 2001-01-05T00:00:00 to 2005-12-31T00:00:00\n",
       "Scale               Axis with 4 elements: Trend Long-Term Variability Annual Cycle Fast Oscillations \n",
       "Lon                 Axis with 2760 Elements from -82.99622135 to -60.00464665\n",
       "Lat                 Axis with 120 Elements from 0.9961893499999996 to 0.004526649999999694\n",
       "Variable            Axis with 5 elements: lai fpar gross_primary_productivity evi ndvi \n",
       "Total size: 7.09 GB\n"
      ]
     },
     "execution_count": 9,
     "metadata": {},
     "output_type": "execute_result"
    }
   ],
   "source": [
    "@time cspafft = filterTSFFT(cspa[time=yrstart:yrend, lat=latsub])"
   ]
  },
  {
   "cell_type": "markdown",
   "metadata": {},
   "source": [
    "## Example 2: Maximum values along time series"
   ]
  },
  {
   "cell_type": "code",
   "execution_count": 10,
   "metadata": {},
   "outputs": [
    {
     "name": "stderr",
     "output_type": "stream",
     "text": [
      "\u001b[32mProgress: 100%|█████████████████████████████████████████| Time: 0:00:41\u001b[39m\n"
     ]
    },
    {
     "name": "stdout",
     "output_type": "stream",
     "text": [
      " 43.233203 seconds (756.82 M allocations: 17.970 GiB, 9.68% gc time)\n"
     ]
    },
    {
     "data": {
      "text/plain": [
       "In-Memory data cube with the following dimensions\n",
       "Lon                 Axis with 2760 Elements from -82.99622135 to -60.00464665\n",
       "Lat                 Axis with 120 Elements from 0.9961893499999996 to 0.004526649999999694\n",
       "Variable            Axis with 5 elements: lai fpar gross_primary_productivity evi ndvi \n",
       "Total size: 7.9 MB\n"
      ]
     },
     "execution_count": 10,
     "metadata": {},
     "output_type": "execute_result"
    }
   ],
   "source": [
    "@time ctempax= mapslices(maximum, ctem[time=yrstart:yrend, lat=latsub], dims=\"time\")"
   ]
  },
  {
   "cell_type": "code",
   "execution_count": 11,
   "metadata": {},
   "outputs": [
    {
     "name": "stderr",
     "output_type": "stream",
     "text": [
      "┌ Warning: There are still cache misses\n",
      "└ @ ESDL.DAT /Net/Groups/BGI/scratch/lestup/julia_atacama_depots/packages/ESDL/skMpG/src/DAT/DAT.jl:608\n",
      "┌ Warning: There are compressed caches misses, you may want to use a different cube chunking\n",
      "└ @ ESDL.DAT /Net/Groups/BGI/scratch/lestup/julia_atacama_depots/packages/ESDL/skMpG/src/DAT/DAT.jl:609\n",
      "\u001b[32mProgress: 100%|█████████████████████████████████████████| Time: 0:12:38\u001b[39m\n"
     ]
    },
    {
     "name": "stdout",
     "output_type": "stream",
     "text": [
      "758.984782 seconds (754.09 M allocations: 249.939 GiB, 4.20% gc time)\n"
     ]
    },
    {
     "data": {
      "text/plain": [
       "In-Memory data cube with the following dimensions\n",
       "Lon                 Axis with 2760 Elements from -82.99622135 to -60.00464665\n",
       "Lat                 Axis with 120 Elements from 0.9961893499999996 to 0.004526649999999694\n",
       "Variable            Axis with 5 elements: lai fpar gross_primary_productivity evi ndvi \n",
       "Total size: 7.9 MB\n"
      ]
     },
     "execution_count": 11,
     "metadata": {},
     "output_type": "execute_result"
    }
   ],
   "source": [
    "@time cspamax = mapslices(maximum, cspa[time=yrstart:yrend, lat=latsub], dims=\"time\")"
   ]
  },
  {
   "cell_type": "code",
   "execution_count": null,
   "metadata": {},
   "outputs": [],
   "source": []
  }
 ],
 "metadata": {
  "@webio": {
   "lastCommId": null,
   "lastKernelId": null
  },
  "kernelspec": {
   "display_name": "Julia 1.3 Atacama",
   "language": "julia",
   "name": "julia-1.3-atacama"
  },
  "language_info": {
   "file_extension": ".jl",
   "mimetype": "application/julia",
   "name": "julia",
   "version": "1.3.1"
  }
 },
 "nbformat": 4,
 "nbformat_minor": 4
}
